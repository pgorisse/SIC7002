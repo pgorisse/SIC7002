{
  "cells": [
    {
      "cell_type": "code",
      "execution_count": null,
      "metadata": {
        "collapsed": true,
        "pycharm": {}
      },
      "outputs": [],
      "source": "import numpy as np\nimport pandas as pd\nimport seaborn as sns\n\nimport keras\nfrom keras.models import Sequential\nfrom keras.layers import Dense\nfrom keras.utils import to_categorical\nfrom keras.callbacks import EarlyStopping, ModelCheckpoint\nfrom keras.models import model_from_json\n\nfrom sklearn.metrics import confusion_matrix\nfrom sklearn.metrics import precision_score, recall_score, accuracy_score\nfrom sklearn.utils.multiclass import unique_labels\nfrom sklearn.model_selection import train_test_split\n\nimport matplotlib.pyplot as plt\n\n"
    },
    {
      "cell_type": "code",
      "execution_count": null,
      "outputs": [],
      "source": "# attach the column names to the dataset\ncol_names \u003d [\"duration\",\"protocol_type\",\"service\",\"flag\",\"src_bytes\",\n    \"dst_bytes\",\"land\",\"wrong_fragment\",\"urgent\",\"hot\",\"num_failed_logins\",\n    \"logged_in\",\"num_compromised\",\"root_shell\",\"su_attempted\",\"num_root\",\n    \"num_file_creations\",\"num_shells\",\"num_access_files\",\"num_outbound_cmds\",\n    \"is_host_login\",\"is_guest_login\",\"count\",\"srv_count\",\"serror_rate\",\n    \"srv_serror_rate\",\"rerror_rate\",\"srv_rerror_rate\",\"same_srv_rate\",\n    \"diff_srv_rate\",\"srv_diff_host_rate\",\"dst_host_count\",\"dst_host_srv_count\",\n    \"dst_host_same_srv_rate\",\"dst_host_diff_srv_rate\",\"dst_host_same_src_port_rate\",\n    \"dst_host_srv_diff_host_rate\",\"dst_host_serror_rate\",\"dst_host_srv_serror_rate\",\n    \"dst_host_rerror_rate\",\"dst_host_srv_rerror_rate\",\"label\"]\n\n# open the csv dataset\ndf \u003d pd.read_csv(\"kddcup.data_10_percent.gz\",compression\u003d\u0027gzip\u0027,header\u003dNone, names \u003d col_names)\n\ndata \u003d df.drop(\"label\", axis\u003d1)\ntarget \u003d df[\"label\"]\n\n#PREPROCESSING\nRANDOM_SEED \u003d 101\n\nX_train, X_test \u003d train_test_split(df, test_size\u003d0.2, random_state \u003d RANDOM_SEED)\n\nX_train \u003d X_train[X_train[\u0027label\u0027] \u003d\u003d 0]\nX_train \u003d X_train.drop([\u0027label\u0027], axis\u003d1)\ny_test  \u003d X_test[\u0027label\u0027]\nX_test  \u003d X_test.drop([\u0027label\u0027], axis\u003d1)\nX_train \u003d X_train.values\nX_test  \u003d X_test.values\nprint(\u0027Training data size   :\u0027, X_train.shape)\nprint(\u0027Validation data size :\u0027, X_test.shape)\n",
      "metadata": {
        "pycharm": {
          "metadata": false,
          "name": "#%%\n"
        }
      }
    }
  ],
  "metadata": {
    "language_info": {
      "codemirror_mode": {
        "name": "ipython",
        "version": 2
      },
      "file_extension": ".py",
      "mimetype": "text/x-python",
      "name": "python",
      "nbconvert_exporter": "python",
      "pygments_lexer": "ipython2",
      "version": "2.7.6"
    },
    "kernelspec": {
      "name": "python3",
      "language": "python",
      "display_name": "Python 3"
    }
  },
  "nbformat": 4,
  "nbformat_minor": 0
}