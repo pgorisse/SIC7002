{
 "cells": [
  {
   "cell_type": "code",
   "execution_count": 65,
   "metadata": {
    "pycharm": {
     "is_executing": false
    }
   },
   "outputs": [],
   "source": [
    "import numpy as np\n",
    "import pandas as pd\n",
    "import seaborn as sns\n",
    "\n",
    "import keras\n",
    "from keras.models import Sequential\n",
    "from keras.models import Model\n",
    "from keras.layers import Dense\n",
    "from keras.layers import Input\n",
    "from keras.utils import to_categorical\n",
    "from keras.callbacks import EarlyStopping, ModelCheckpoint\n",
    "from keras.models import model_from_json\n",
    "\n",
    "from keras.regularizers import l1\n",
    "\n",
    "from sklearn.metrics import confusion_matrix\n",
    "from sklearn.metrics import precision_score, recall_score, accuracy_score, precision_recall_curve, roc_curve, label_ranking_loss, roc_auc_score\n",
    "from sklearn.utils.multiclass import unique_labels\n",
    "from sklearn.model_selection import train_test_split\n",
    "from sklearn.ensemble import IsolationForest\n",
    "\n",
    "import matplotlib.pyplot as plt\n",
    "\n",
    "import datetime\n",
    "\n",
    "import plotly as py\n",
    "import plotly.offline as pyo\n",
    "import plotly.graph_objs as go\n",
    "from plotly.graph_objs import Data,Figure\n",
    "\n",
    "from sklearn.preprocessing import  StandardScaler, MinMaxScaler\n",
    "\n"
   ]
  },
  {
   "cell_type": "code",
   "execution_count": 59,
   "metadata": {
    "pycharm": {
     "is_executing": false,
     "metadata": false,
     "name": "#%%\n"
    }
   },
   "outputs": [
    {
     "name": "stdout",
     "output_type": "stream",
     "text": [
      "Training data size   : (74500, 109)\n",
      "Validation (test) data size : (18625, 109)\n"
     ]
    },
    {
     "data": {
      "text/html": [
       "<div>\n",
       "<style scoped>\n",
       "    .dataframe tbody tr th:only-of-type {\n",
       "        vertical-align: middle;\n",
       "    }\n",
       "\n",
       "    .dataframe tbody tr th {\n",
       "        vertical-align: top;\n",
       "    }\n",
       "\n",
       "    .dataframe thead th {\n",
       "        text-align: right;\n",
       "    }\n",
       "</style>\n",
       "<table border=\"1\" class=\"dataframe\">\n",
       "  <thead>\n",
       "    <tr style=\"text-align: right;\">\n",
       "      <th></th>\n",
       "      <th>duration</th>\n",
       "      <th>src_bytes</th>\n",
       "      <th>dst_bytes</th>\n",
       "      <th>land</th>\n",
       "      <th>wrong_fragment</th>\n",
       "      <th>urgent</th>\n",
       "      <th>hot</th>\n",
       "      <th>num_failed_logins</th>\n",
       "      <th>logged_in</th>\n",
       "      <th>num_compromised</th>\n",
       "      <th>...</th>\n",
       "      <th>flag_REJ</th>\n",
       "      <th>flag_RSTO</th>\n",
       "      <th>flag_RSTOS0</th>\n",
       "      <th>flag_RSTR</th>\n",
       "      <th>flag_S0</th>\n",
       "      <th>flag_S1</th>\n",
       "      <th>flag_S2</th>\n",
       "      <th>flag_S3</th>\n",
       "      <th>flag_SF</th>\n",
       "      <th>flag_SH</th>\n",
       "    </tr>\n",
       "  </thead>\n",
       "  <tbody>\n",
       "    <tr>\n",
       "      <th>0</th>\n",
       "      <td>0</td>\n",
       "      <td>181</td>\n",
       "      <td>5450</td>\n",
       "      <td>0</td>\n",
       "      <td>0</td>\n",
       "      <td>0</td>\n",
       "      <td>0</td>\n",
       "      <td>0</td>\n",
       "      <td>1</td>\n",
       "      <td>0</td>\n",
       "      <td>...</td>\n",
       "      <td>0</td>\n",
       "      <td>0</td>\n",
       "      <td>0</td>\n",
       "      <td>0</td>\n",
       "      <td>0</td>\n",
       "      <td>0</td>\n",
       "      <td>0</td>\n",
       "      <td>0</td>\n",
       "      <td>1</td>\n",
       "      <td>0</td>\n",
       "    </tr>\n",
       "    <tr>\n",
       "      <th>1</th>\n",
       "      <td>0</td>\n",
       "      <td>239</td>\n",
       "      <td>486</td>\n",
       "      <td>0</td>\n",
       "      <td>0</td>\n",
       "      <td>0</td>\n",
       "      <td>0</td>\n",
       "      <td>0</td>\n",
       "      <td>1</td>\n",
       "      <td>0</td>\n",
       "      <td>...</td>\n",
       "      <td>0</td>\n",
       "      <td>0</td>\n",
       "      <td>0</td>\n",
       "      <td>0</td>\n",
       "      <td>0</td>\n",
       "      <td>0</td>\n",
       "      <td>0</td>\n",
       "      <td>0</td>\n",
       "      <td>1</td>\n",
       "      <td>0</td>\n",
       "    </tr>\n",
       "    <tr>\n",
       "      <th>2</th>\n",
       "      <td>0</td>\n",
       "      <td>235</td>\n",
       "      <td>1337</td>\n",
       "      <td>0</td>\n",
       "      <td>0</td>\n",
       "      <td>0</td>\n",
       "      <td>0</td>\n",
       "      <td>0</td>\n",
       "      <td>1</td>\n",
       "      <td>0</td>\n",
       "      <td>...</td>\n",
       "      <td>0</td>\n",
       "      <td>0</td>\n",
       "      <td>0</td>\n",
       "      <td>0</td>\n",
       "      <td>0</td>\n",
       "      <td>0</td>\n",
       "      <td>0</td>\n",
       "      <td>0</td>\n",
       "      <td>1</td>\n",
       "      <td>0</td>\n",
       "    </tr>\n",
       "    <tr>\n",
       "      <th>3</th>\n",
       "      <td>0</td>\n",
       "      <td>219</td>\n",
       "      <td>1337</td>\n",
       "      <td>0</td>\n",
       "      <td>0</td>\n",
       "      <td>0</td>\n",
       "      <td>0</td>\n",
       "      <td>0</td>\n",
       "      <td>1</td>\n",
       "      <td>0</td>\n",
       "      <td>...</td>\n",
       "      <td>0</td>\n",
       "      <td>0</td>\n",
       "      <td>0</td>\n",
       "      <td>0</td>\n",
       "      <td>0</td>\n",
       "      <td>0</td>\n",
       "      <td>0</td>\n",
       "      <td>0</td>\n",
       "      <td>1</td>\n",
       "      <td>0</td>\n",
       "    </tr>\n",
       "    <tr>\n",
       "      <th>4</th>\n",
       "      <td>0</td>\n",
       "      <td>217</td>\n",
       "      <td>2032</td>\n",
       "      <td>0</td>\n",
       "      <td>0</td>\n",
       "      <td>0</td>\n",
       "      <td>0</td>\n",
       "      <td>0</td>\n",
       "      <td>1</td>\n",
       "      <td>0</td>\n",
       "      <td>...</td>\n",
       "      <td>0</td>\n",
       "      <td>0</td>\n",
       "      <td>0</td>\n",
       "      <td>0</td>\n",
       "      <td>0</td>\n",
       "      <td>0</td>\n",
       "      <td>0</td>\n",
       "      <td>0</td>\n",
       "      <td>1</td>\n",
       "      <td>0</td>\n",
       "    </tr>\n",
       "  </tbody>\n",
       "</table>\n",
       "<p>5 rows × 110 columns</p>\n",
       "</div>"
      ],
      "text/plain": [
       "   duration  src_bytes  dst_bytes  land  wrong_fragment  urgent  hot  \\\n",
       "0         0        181       5450     0               0       0    0   \n",
       "1         0        239        486     0               0       0    0   \n",
       "2         0        235       1337     0               0       0    0   \n",
       "3         0        219       1337     0               0       0    0   \n",
       "4         0        217       2032     0               0       0    0   \n",
       "\n",
       "   num_failed_logins  logged_in  num_compromised  ...  flag_REJ  flag_RSTO  \\\n",
       "0                  0          1                0  ...         0          0   \n",
       "1                  0          1                0  ...         0          0   \n",
       "2                  0          1                0  ...         0          0   \n",
       "3                  0          1                0  ...         0          0   \n",
       "4                  0          1                0  ...         0          0   \n",
       "\n",
       "   flag_RSTOS0  flag_RSTR  flag_S0  flag_S1  flag_S2  flag_S3  flag_SF  \\\n",
       "0            0          0        0        0        0        0        1   \n",
       "1            0          0        0        0        0        0        1   \n",
       "2            0          0        0        0        0        0        1   \n",
       "3            0          0        0        0        0        0        1   \n",
       "4            0          0        0        0        0        0        1   \n",
       "\n",
       "   flag_SH  \n",
       "0        0  \n",
       "1        0  \n",
       "2        0  \n",
       "3        0  \n",
       "4        0  \n",
       "\n",
       "[5 rows x 110 columns]"
      ]
     },
     "execution_count": 59,
     "metadata": {},
     "output_type": "execute_result"
    }
   ],
   "source": [
    "# PREPROCESSING\n",
    "\n",
    "# attach the column names to the dataset\n",
    "col_names = [\"duration\",\"protocol_type\",\"service\",\"flag\",\"src_bytes\",\n",
    "    \"dst_bytes\",\"land\",\"wrong_fragment\",\"urgent\",\"hot\",\"num_failed_logins\",\n",
    "    \"logged_in\",\"num_compromised\",\"root_shell\",\"su_attempted\",\"num_root\",\n",
    "    \"num_file_creations\",\"num_shells\",\"num_access_files\",\"num_outbound_cmds\",\n",
    "    \"is_host_login\",\"is_guest_login\",\"count\",\"srv_count\",\"serror_rate\",\n",
    "    \"srv_serror_rate\",\"rerror_rate\",\"srv_rerror_rate\",\"same_srv_rate\",\n",
    "    \"diff_srv_rate\",\"srv_diff_host_rate\",\"dst_host_count\",\"dst_host_srv_count\",\n",
    "    \"dst_host_same_srv_rate\",\"dst_host_diff_srv_rate\",\"dst_host_same_src_port_rate\",\n",
    "    \"dst_host_srv_diff_host_rate\",\"dst_host_serror_rate\",\"dst_host_srv_serror_rate\",\n",
    "    \"dst_host_rerror_rate\",\"dst_host_srv_rerror_rate\",\"label\"]\n",
    "\n",
    "# open the csv dataset\n",
    "df = pd.read_csv(\"kddcup.data_10_percent.gz\",compression='gzip',header=None, names = col_names)\n",
    "\n",
    "# Remove smurf and neptune attacks\n",
    "df = df[df.label != 'smurf.']\n",
    "df = df[df.label != 'neptune.']\n",
    "\n",
    "# Remove duplicates\n",
    "df.drop_duplicates(subset=None, keep='first', inplace=True)\n",
    "\n",
    "\n",
    "#data = df.drop(\"label\", axis=1) #labels serviront pour évaluer la qualité du modèle\n",
    "target = df[\"label\"]\n",
    "\n",
    "\n",
    "\n",
    "# One hot encoding\n",
    "cols_to_dummify = ['protocol_type','service','flag']\n",
    "data_dummy = pd.get_dummies(df, columns=cols_to_dummify, prefix=cols_to_dummify)\n",
    "target_dummy = pd.get_dummies(target)\n",
    "target_categories = target_dummy.columns\n",
    "\n",
    "# Splitting train/test\n",
    "X = data_dummy.values\n",
    "y = target_dummy.values\n",
    "X_train, X_test = train_test_split(data_dummy, test_size=0.2, random_state = RANDOM_SEED)\n",
    "\n",
    "#X_train = X_train[X_train['label'] == 'normal.' ] # Only train on normal data (no intrusion)\n",
    "# X_test = X_test[X_test['label'] == 'normal.']\n",
    "y_train = X_train['label'] \n",
    "ylabel_train= (y_train != 'normal.')\n",
    "X_train = X_train.drop(['label'], axis=1)\n",
    "y_test  = X_test['label']\n",
    "X_test  = X_test.drop(['label'], axis=1)\n",
    "X_train = X_train.values\n",
    "X_test  = X_test.values\n",
    "\n",
    "# Standardize/Normalize dataset?\n",
    "scaler = MinMaxScaler()\n",
    "X_train_scaled = scaler.fit_transform(X_train)\n",
    "X_test_scaled  = scaler.transform(X_test)\n",
    "\n",
    "print('Training data size   :', X_train.shape)\n",
    "print('Validation (test) data size :', X_test.shape)\n",
    "data_dummy.head()"
   ]
  },
  {
   "cell_type": "code",
   "execution_count": 60,
   "metadata": {
    "pycharm": {
     "is_executing": false,
     "name": "#%%\n"
    },
    "scrolled": false
   },
   "outputs": [
    {
     "name": "stderr",
     "output_type": "stream",
     "text": [
      "/Users/Theo/anaconda3/lib/python3.7/site-packages/sklearn/ensemble/iforest.py:213: FutureWarning:\n",
      "\n",
      "default contamination parameter 0.1 will change in version 0.22 to \"auto\". This will change the predict method behavior.\n",
      "\n"
     ]
    },
    {
     "name": "stdout",
     "output_type": "stream",
     "text": [
      "0.6301670527984391\n",
      "[0.46]\n"
     ]
    },
    {
     "name": "stderr",
     "output_type": "stream",
     "text": [
      "/Users/Theo/anaconda3/lib/python3.7/site-packages/sklearn/ensemble/iforest.py:213: FutureWarning:\n",
      "\n",
      "default contamination parameter 0.1 will change in version 0.22 to \"auto\". This will change the predict method behavior.\n",
      "\n"
     ]
    },
    {
     "name": "stdout",
     "output_type": "stream",
     "text": [
      "0.693446088794926\n",
      "[0.46]\n"
     ]
    },
    {
     "name": "stderr",
     "output_type": "stream",
     "text": [
      "/Users/Theo/anaconda3/lib/python3.7/site-packages/sklearn/ensemble/iforest.py:213: FutureWarning:\n",
      "\n",
      "default contamination parameter 0.1 will change in version 0.22 to \"auto\". This will change the predict method behavior.\n",
      "\n"
     ]
    },
    {
     "name": "stdout",
     "output_type": "stream",
     "text": [
      "0.5631646108039132\n",
      "[0.47]\n"
     ]
    },
    {
     "name": "stderr",
     "output_type": "stream",
     "text": [
      "/Users/Theo/anaconda3/lib/python3.7/site-packages/sklearn/ensemble/iforest.py:213: FutureWarning:\n",
      "\n",
      "default contamination parameter 0.1 will change in version 0.22 to \"auto\". This will change the predict method behavior.\n",
      "\n"
     ]
    },
    {
     "name": "stdout",
     "output_type": "stream",
     "text": [
      "0.609873708381171\n",
      "[0.46]\n"
     ]
    },
    {
     "name": "stderr",
     "output_type": "stream",
     "text": [
      "/Users/Theo/anaconda3/lib/python3.7/site-packages/sklearn/ensemble/iforest.py:213: FutureWarning:\n",
      "\n",
      "default contamination parameter 0.1 will change in version 0.22 to \"auto\". This will change the predict method behavior.\n",
      "\n"
     ]
    },
    {
     "name": "stdout",
     "output_type": "stream",
     "text": [
      "0.6488567990373045\n",
      "[0.45]\n"
     ]
    },
    {
     "name": "stderr",
     "output_type": "stream",
     "text": [
      "/Users/Theo/anaconda3/lib/python3.7/site-packages/sklearn/ensemble/iforest.py:213: FutureWarning:\n",
      "\n",
      "default contamination parameter 0.1 will change in version 0.22 to \"auto\". This will change the predict method behavior.\n",
      "\n"
     ]
    },
    {
     "name": "stdout",
     "output_type": "stream",
     "text": [
      "0.623380093520374\n",
      "[0.46]\n"
     ]
    },
    {
     "name": "stderr",
     "output_type": "stream",
     "text": [
      "/Users/Theo/anaconda3/lib/python3.7/site-packages/sklearn/ensemble/iforest.py:213: FutureWarning:\n",
      "\n",
      "default contamination parameter 0.1 will change in version 0.22 to \"auto\". This will change the predict method behavior.\n",
      "\n"
     ]
    },
    {
     "name": "stdout",
     "output_type": "stream",
     "text": [
      "0.6113057696799813\n",
      "[0.45]\n"
     ]
    },
    {
     "name": "stderr",
     "output_type": "stream",
     "text": [
      "/Users/Theo/anaconda3/lib/python3.7/site-packages/sklearn/ensemble/iforest.py:213: FutureWarning:\n",
      "\n",
      "default contamination parameter 0.1 will change in version 0.22 to \"auto\". This will change the predict method behavior.\n",
      "\n"
     ]
    },
    {
     "name": "stdout",
     "output_type": "stream",
     "text": [
      "0.5860260943787343\n",
      "[0.44]\n"
     ]
    },
    {
     "name": "stderr",
     "output_type": "stream",
     "text": [
      "/Users/Theo/anaconda3/lib/python3.7/site-packages/sklearn/ensemble/iforest.py:213: FutureWarning:\n",
      "\n",
      "default contamination parameter 0.1 will change in version 0.22 to \"auto\". This will change the predict method behavior.\n",
      "\n"
     ]
    },
    {
     "name": "stdout",
     "output_type": "stream",
     "text": [
      "0.6047567825983029\n",
      "[0.44]\n"
     ]
    },
    {
     "name": "stderr",
     "output_type": "stream",
     "text": [
      "/Users/Theo/anaconda3/lib/python3.7/site-packages/sklearn/ensemble/iforest.py:213: FutureWarning:\n",
      "\n",
      "default contamination parameter 0.1 will change in version 0.22 to \"auto\". This will change the predict method behavior.\n",
      "\n"
     ]
    },
    {
     "name": "stdout",
     "output_type": "stream",
     "text": [
      "0.6019948080338845\n",
      "[0.45]\n"
     ]
    },
    {
     "name": "stderr",
     "output_type": "stream",
     "text": [
      "/Users/Theo/anaconda3/lib/python3.7/site-packages/sklearn/ensemble/iforest.py:213: FutureWarning:\n",
      "\n",
      "default contamination parameter 0.1 will change in version 0.22 to \"auto\". This will change the predict method behavior.\n",
      "\n"
     ]
    },
    {
     "name": "stdout",
     "output_type": "stream",
     "text": [
      "0.5853256389117889\n",
      "[0.44]\n"
     ]
    },
    {
     "name": "stderr",
     "output_type": "stream",
     "text": [
      "/Users/Theo/anaconda3/lib/python3.7/site-packages/sklearn/ensemble/iforest.py:213: FutureWarning:\n",
      "\n",
      "default contamination parameter 0.1 will change in version 0.22 to \"auto\". This will change the predict method behavior.\n",
      "\n"
     ]
    },
    {
     "name": "stdout",
     "output_type": "stream",
     "text": [
      "0.6006548492717625\n",
      "[0.43]\n"
     ]
    },
    {
     "name": "stderr",
     "output_type": "stream",
     "text": [
      "/Users/Theo/anaconda3/lib/python3.7/site-packages/sklearn/ensemble/iforest.py:213: FutureWarning:\n",
      "\n",
      "default contamination parameter 0.1 will change in version 0.22 to \"auto\". This will change the predict method behavior.\n",
      "\n"
     ]
    },
    {
     "name": "stdout",
     "output_type": "stream",
     "text": [
      "0.6147678779257726\n",
      "[0.44]\n"
     ]
    },
    {
     "name": "stderr",
     "output_type": "stream",
     "text": [
      "/Users/Theo/anaconda3/lib/python3.7/site-packages/sklearn/ensemble/iforest.py:213: FutureWarning:\n",
      "\n",
      "default contamination parameter 0.1 will change in version 0.22 to \"auto\". This will change the predict method behavior.\n",
      "\n",
      "/Users/Theo/anaconda3/lib/python3.7/site-packages/ipykernel_launcher.py:25: RuntimeWarning:\n",
      "\n",
      "divide by zero encountered in true_divide\n",
      "\n",
      "/Users/Theo/anaconda3/lib/python3.7/site-packages/ipykernel_launcher.py:25: RuntimeWarning:\n",
      "\n",
      "invalid value encountered in true_divide\n",
      "\n"
     ]
    },
    {
     "name": "stdout",
     "output_type": "stream",
     "text": [
      "0.6509839402850034\n",
      "[0.43]\n"
     ]
    },
    {
     "name": "stderr",
     "output_type": "stream",
     "text": [
      "/Users/Theo/anaconda3/lib/python3.7/site-packages/sklearn/ensemble/iforest.py:213: FutureWarning:\n",
      "\n",
      "default contamination parameter 0.1 will change in version 0.22 to \"auto\". This will change the predict method behavior.\n",
      "\n",
      "/Users/Theo/anaconda3/lib/python3.7/site-packages/ipykernel_launcher.py:25: RuntimeWarning:\n",
      "\n",
      "divide by zero encountered in true_divide\n",
      "\n",
      "/Users/Theo/anaconda3/lib/python3.7/site-packages/ipykernel_launcher.py:25: RuntimeWarning:\n",
      "\n",
      "invalid value encountered in true_divide\n",
      "\n"
     ]
    },
    {
     "name": "stdout",
     "output_type": "stream",
     "text": [
      "0.6189341692789969\n",
      "[0.44]\n"
     ]
    },
    {
     "name": "stderr",
     "output_type": "stream",
     "text": [
      "/Users/Theo/anaconda3/lib/python3.7/site-packages/sklearn/ensemble/iforest.py:213: FutureWarning:\n",
      "\n",
      "default contamination parameter 0.1 will change in version 0.22 to \"auto\". This will change the predict method behavior.\n",
      "\n"
     ]
    },
    {
     "name": "stdout",
     "output_type": "stream",
     "text": [
      "0.641294227188082\n",
      "[0.43]\n"
     ]
    },
    {
     "name": "stderr",
     "output_type": "stream",
     "text": [
      "/Users/Theo/anaconda3/lib/python3.7/site-packages/sklearn/ensemble/iforest.py:213: FutureWarning:\n",
      "\n",
      "default contamination parameter 0.1 will change in version 0.22 to \"auto\". This will change the predict method behavior.\n",
      "\n"
     ]
    },
    {
     "name": "stdout",
     "output_type": "stream",
     "text": [
      "0.610950313555234\n",
      "[0.43]\n"
     ]
    },
    {
     "name": "stderr",
     "output_type": "stream",
     "text": [
      "/Users/Theo/anaconda3/lib/python3.7/site-packages/sklearn/ensemble/iforest.py:213: FutureWarning:\n",
      "\n",
      "default contamination parameter 0.1 will change in version 0.22 to \"auto\". This will change the predict method behavior.\n",
      "\n"
     ]
    },
    {
     "name": "stdout",
     "output_type": "stream",
     "text": [
      "0.5987022710257051\n",
      "[0.44]\n"
     ]
    },
    {
     "name": "stderr",
     "output_type": "stream",
     "text": [
      "/Users/Theo/anaconda3/lib/python3.7/site-packages/sklearn/ensemble/iforest.py:213: FutureWarning:\n",
      "\n",
      "default contamination parameter 0.1 will change in version 0.22 to \"auto\". This will change the predict method behavior.\n",
      "\n"
     ]
    },
    {
     "name": "stdout",
     "output_type": "stream",
     "text": [
      "0.6017699115044247\n",
      "[0.42]\n"
     ]
    },
    {
     "name": "stderr",
     "output_type": "stream",
     "text": [
      "/Users/Theo/anaconda3/lib/python3.7/site-packages/sklearn/ensemble/iforest.py:213: FutureWarning:\n",
      "\n",
      "default contamination parameter 0.1 will change in version 0.22 to \"auto\". This will change the predict method behavior.\n",
      "\n"
     ]
    },
    {
     "name": "stdout",
     "output_type": "stream",
     "text": [
      "0.57243195785777\n",
      "[0.42]\n"
     ]
    },
    {
     "name": "stderr",
     "output_type": "stream",
     "text": [
      "/Users/Theo/anaconda3/lib/python3.7/site-packages/sklearn/ensemble/iforest.py:213: FutureWarning:\n",
      "\n",
      "default contamination parameter 0.1 will change in version 0.22 to \"auto\". This will change the predict method behavior.\n",
      "\n"
     ]
    },
    {
     "name": "stdout",
     "output_type": "stream",
     "text": [
      "0.6593020336429827\n",
      "[0.43]\n"
     ]
    },
    {
     "name": "stderr",
     "output_type": "stream",
     "text": [
      "/Users/Theo/anaconda3/lib/python3.7/site-packages/sklearn/ensemble/iforest.py:213: FutureWarning:\n",
      "\n",
      "default contamination parameter 0.1 will change in version 0.22 to \"auto\". This will change the predict method behavior.\n",
      "\n"
     ]
    },
    {
     "name": "stdout",
     "output_type": "stream",
     "text": [
      "0.6242846479223687\n",
      "[0.44]\n"
     ]
    },
    {
     "name": "stderr",
     "output_type": "stream",
     "text": [
      "/Users/Theo/anaconda3/lib/python3.7/site-packages/sklearn/ensemble/iforest.py:213: FutureWarning:\n",
      "\n",
      "default contamination parameter 0.1 will change in version 0.22 to \"auto\". This will change the predict method behavior.\n",
      "\n"
     ]
    },
    {
     "name": "stdout",
     "output_type": "stream",
     "text": [
      "0.542894442372249\n",
      "[0.41]\n"
     ]
    },
    {
     "name": "stderr",
     "output_type": "stream",
     "text": [
      "/Users/Theo/anaconda3/lib/python3.7/site-packages/sklearn/ensemble/iforest.py:213: FutureWarning:\n",
      "\n",
      "default contamination parameter 0.1 will change in version 0.22 to \"auto\". This will change the predict method behavior.\n",
      "\n"
     ]
    },
    {
     "name": "stdout",
     "output_type": "stream",
     "text": [
      "0.6101014869011092\n",
      "[0.42]\n"
     ]
    },
    {
     "name": "stderr",
     "output_type": "stream",
     "text": [
      "/Users/Theo/anaconda3/lib/python3.7/site-packages/sklearn/ensemble/iforest.py:213: FutureWarning:\n",
      "\n",
      "default contamination parameter 0.1 will change in version 0.22 to \"auto\". This will change the predict method behavior.\n",
      "\n"
     ]
    },
    {
     "name": "stdout",
     "output_type": "stream",
     "text": [
      "0.617980714690868\n",
      "[0.44]\n"
     ]
    },
    {
     "name": "stderr",
     "output_type": "stream",
     "text": [
      "/Users/Theo/anaconda3/lib/python3.7/site-packages/sklearn/ensemble/iforest.py:213: FutureWarning:\n",
      "\n",
      "default contamination parameter 0.1 will change in version 0.22 to \"auto\". This will change the predict method behavior.\n",
      "\n"
     ]
    },
    {
     "name": "stdout",
     "output_type": "stream",
     "text": [
      "0.6822227567957662\n",
      "[0.43]\n"
     ]
    },
    {
     "name": "stderr",
     "output_type": "stream",
     "text": [
      "/Users/Theo/anaconda3/lib/python3.7/site-packages/sklearn/ensemble/iforest.py:213: FutureWarning:\n",
      "\n",
      "default contamination parameter 0.1 will change in version 0.22 to \"auto\". This will change the predict method behavior.\n",
      "\n"
     ]
    },
    {
     "name": "stdout",
     "output_type": "stream",
     "text": [
      "0.5655412115193644\n",
      "[0.42]\n"
     ]
    },
    {
     "name": "stderr",
     "output_type": "stream",
     "text": [
      "/Users/Theo/anaconda3/lib/python3.7/site-packages/sklearn/ensemble/iforest.py:213: FutureWarning:\n",
      "\n",
      "default contamination parameter 0.1 will change in version 0.22 to \"auto\". This will change the predict method behavior.\n",
      "\n"
     ]
    },
    {
     "name": "stdout",
     "output_type": "stream",
     "text": [
      "0.5781914893617021\n",
      "[0.43]\n"
     ]
    },
    {
     "name": "stderr",
     "output_type": "stream",
     "text": [
      "/Users/Theo/anaconda3/lib/python3.7/site-packages/sklearn/ensemble/iforest.py:213: FutureWarning:\n",
      "\n",
      "default contamination parameter 0.1 will change in version 0.22 to \"auto\". This will change the predict method behavior.\n",
      "\n"
     ]
    },
    {
     "name": "stdout",
     "output_type": "stream",
     "text": [
      "0.6055900621118012\n",
      "[0.44]\n"
     ]
    },
    {
     "name": "stderr",
     "output_type": "stream",
     "text": [
      "/Users/Theo/anaconda3/lib/python3.7/site-packages/sklearn/ensemble/iforest.py:213: FutureWarning:\n",
      "\n",
      "default contamination parameter 0.1 will change in version 0.22 to \"auto\". This will change the predict method behavior.\n",
      "\n"
     ]
    },
    {
     "name": "stdout",
     "output_type": "stream",
     "text": [
      "0.6174275958011888\n",
      "[0.43]\n"
     ]
    },
    {
     "name": "stderr",
     "output_type": "stream",
     "text": [
      "/Users/Theo/anaconda3/lib/python3.7/site-packages/sklearn/ensemble/iforest.py:213: FutureWarning:\n",
      "\n",
      "default contamination parameter 0.1 will change in version 0.22 to \"auto\". This will change the predict method behavior.\n",
      "\n"
     ]
    },
    {
     "name": "stdout",
     "output_type": "stream",
     "text": [
      "0.5972410062212605\n",
      "[0.44]\n"
     ]
    },
    {
     "name": "stderr",
     "output_type": "stream",
     "text": [
      "/Users/Theo/anaconda3/lib/python3.7/site-packages/sklearn/ensemble/iforest.py:213: FutureWarning:\n",
      "\n",
      "default contamination parameter 0.1 will change in version 0.22 to \"auto\". This will change the predict method behavior.\n",
      "\n"
     ]
    },
    {
     "name": "stdout",
     "output_type": "stream",
     "text": [
      "0.5958371454711802\n",
      "[0.42]\n"
     ]
    },
    {
     "name": "stderr",
     "output_type": "stream",
     "text": [
      "/Users/Theo/anaconda3/lib/python3.7/site-packages/sklearn/ensemble/iforest.py:213: FutureWarning:\n",
      "\n",
      "default contamination parameter 0.1 will change in version 0.22 to \"auto\". This will change the predict method behavior.\n",
      "\n"
     ]
    },
    {
     "name": "stdout",
     "output_type": "stream",
     "text": [
      "0.5444281359376764\n",
      "[0.42]\n"
     ]
    },
    {
     "name": "stderr",
     "output_type": "stream",
     "text": [
      "/Users/Theo/anaconda3/lib/python3.7/site-packages/sklearn/ensemble/iforest.py:213: FutureWarning:\n",
      "\n",
      "default contamination parameter 0.1 will change in version 0.22 to \"auto\". This will change the predict method behavior.\n",
      "\n"
     ]
    },
    {
     "name": "stdout",
     "output_type": "stream",
     "text": [
      "0.5976926853215514\n",
      "[0.42]\n"
     ]
    },
    {
     "name": "stderr",
     "output_type": "stream",
     "text": [
      "/Users/Theo/anaconda3/lib/python3.7/site-packages/sklearn/ensemble/iforest.py:213: FutureWarning:\n",
      "\n",
      "default contamination parameter 0.1 will change in version 0.22 to \"auto\". This will change the predict method behavior.\n",
      "\n"
     ]
    },
    {
     "name": "stdout",
     "output_type": "stream",
     "text": [
      "0.5912240184757506\n",
      "[0.43]\n"
     ]
    },
    {
     "name": "stderr",
     "output_type": "stream",
     "text": [
      "/Users/Theo/anaconda3/lib/python3.7/site-packages/sklearn/ensemble/iforest.py:213: FutureWarning:\n",
      "\n",
      "default contamination parameter 0.1 will change in version 0.22 to \"auto\". This will change the predict method behavior.\n",
      "\n"
     ]
    },
    {
     "name": "stdout",
     "output_type": "stream",
     "text": [
      "0.6192031352057479\n",
      "[0.43]\n"
     ]
    },
    {
     "name": "stderr",
     "output_type": "stream",
     "text": [
      "/Users/Theo/anaconda3/lib/python3.7/site-packages/sklearn/ensemble/iforest.py:213: FutureWarning:\n",
      "\n",
      "default contamination parameter 0.1 will change in version 0.22 to \"auto\". This will change the predict method behavior.\n",
      "\n"
     ]
    },
    {
     "name": "stdout",
     "output_type": "stream",
     "text": [
      "0.6331480545730167\n",
      "[0.42]\n"
     ]
    },
    {
     "name": "stderr",
     "output_type": "stream",
     "text": [
      "/Users/Theo/anaconda3/lib/python3.7/site-packages/sklearn/ensemble/iforest.py:213: FutureWarning:\n",
      "\n",
      "default contamination parameter 0.1 will change in version 0.22 to \"auto\". This will change the predict method behavior.\n",
      "\n"
     ]
    },
    {
     "name": "stdout",
     "output_type": "stream",
     "text": [
      "0.5865431496830814\n",
      "[0.42]\n"
     ]
    },
    {
     "name": "stderr",
     "output_type": "stream",
     "text": [
      "/Users/Theo/anaconda3/lib/python3.7/site-packages/sklearn/ensemble/iforest.py:213: FutureWarning:\n",
      "\n",
      "default contamination parameter 0.1 will change in version 0.22 to \"auto\". This will change the predict method behavior.\n",
      "\n"
     ]
    },
    {
     "name": "stdout",
     "output_type": "stream",
     "text": [
      "0.6136748006764919\n",
      "[0.42]\n"
     ]
    },
    {
     "name": "stderr",
     "output_type": "stream",
     "text": [
      "/Users/Theo/anaconda3/lib/python3.7/site-packages/sklearn/ensemble/iforest.py:213: FutureWarning:\n",
      "\n",
      "default contamination parameter 0.1 will change in version 0.22 to \"auto\". This will change the predict method behavior.\n",
      "\n"
     ]
    },
    {
     "name": "stdout",
     "output_type": "stream",
     "text": [
      "0.6093623890234059\n",
      "[0.42]\n"
     ]
    },
    {
     "name": "stderr",
     "output_type": "stream",
     "text": [
      "/Users/Theo/anaconda3/lib/python3.7/site-packages/sklearn/ensemble/iforest.py:213: FutureWarning:\n",
      "\n",
      "default contamination parameter 0.1 will change in version 0.22 to \"auto\". This will change the predict method behavior.\n",
      "\n"
     ]
    },
    {
     "name": "stdout",
     "output_type": "stream",
     "text": [
      "0.6151954085815796\n",
      "[0.43]\n"
     ]
    },
    {
     "name": "stderr",
     "output_type": "stream",
     "text": [
      "/Users/Theo/anaconda3/lib/python3.7/site-packages/sklearn/ensemble/iforest.py:213: FutureWarning:\n",
      "\n",
      "default contamination parameter 0.1 will change in version 0.22 to \"auto\". This will change the predict method behavior.\n",
      "\n"
     ]
    },
    {
     "name": "stdout",
     "output_type": "stream",
     "text": [
      "0.583428209993675\n",
      "[0.42]\n"
     ]
    },
    {
     "name": "stderr",
     "output_type": "stream",
     "text": [
      "/Users/Theo/anaconda3/lib/python3.7/site-packages/sklearn/ensemble/iforest.py:213: FutureWarning:\n",
      "\n",
      "default contamination parameter 0.1 will change in version 0.22 to \"auto\". This will change the predict method behavior.\n",
      "\n"
     ]
    },
    {
     "name": "stdout",
     "output_type": "stream",
     "text": [
      "0.6236868295919497\n",
      "[0.42]\n"
     ]
    },
    {
     "name": "stderr",
     "output_type": "stream",
     "text": [
      "/Users/Theo/anaconda3/lib/python3.7/site-packages/sklearn/ensemble/iforest.py:213: FutureWarning:\n",
      "\n",
      "default contamination parameter 0.1 will change in version 0.22 to \"auto\". This will change the predict method behavior.\n",
      "\n"
     ]
    },
    {
     "name": "stdout",
     "output_type": "stream",
     "text": [
      "0.6191015477538694\n",
      "[0.43]\n"
     ]
    },
    {
     "name": "stderr",
     "output_type": "stream",
     "text": [
      "/Users/Theo/anaconda3/lib/python3.7/site-packages/sklearn/ensemble/iforest.py:213: FutureWarning:\n",
      "\n",
      "default contamination parameter 0.1 will change in version 0.22 to \"auto\". This will change the predict method behavior.\n",
      "\n"
     ]
    },
    {
     "name": "stdout",
     "output_type": "stream",
     "text": [
      "0.5907417148869016\n",
      "[0.42]\n"
     ]
    },
    {
     "name": "stderr",
     "output_type": "stream",
     "text": [
      "/Users/Theo/anaconda3/lib/python3.7/site-packages/sklearn/ensemble/iforest.py:213: FutureWarning:\n",
      "\n",
      "default contamination parameter 0.1 will change in version 0.22 to \"auto\". This will change the predict method behavior.\n",
      "\n"
     ]
    },
    {
     "name": "stdout",
     "output_type": "stream",
     "text": [
      "0.5921222810111699\n",
      "[0.42]\n"
     ]
    },
    {
     "name": "stderr",
     "output_type": "stream",
     "text": [
      "/Users/Theo/anaconda3/lib/python3.7/site-packages/sklearn/ensemble/iforest.py:213: FutureWarning:\n",
      "\n",
      "default contamination parameter 0.1 will change in version 0.22 to \"auto\". This will change the predict method behavior.\n",
      "\n"
     ]
    },
    {
     "name": "stdout",
     "output_type": "stream",
     "text": [
      "0.6305004597399186\n",
      "[0.43]\n"
     ]
    },
    {
     "name": "stderr",
     "output_type": "stream",
     "text": [
      "/Users/Theo/anaconda3/lib/python3.7/site-packages/sklearn/ensemble/iforest.py:213: FutureWarning:\n",
      "\n",
      "default contamination parameter 0.1 will change in version 0.22 to \"auto\". This will change the predict method behavior.\n",
      "\n"
     ]
    },
    {
     "name": "stdout",
     "output_type": "stream",
     "text": [
      "0.5979770734996629\n",
      "[0.43]\n"
     ]
    },
    {
     "name": "stderr",
     "output_type": "stream",
     "text": [
      "/Users/Theo/anaconda3/lib/python3.7/site-packages/sklearn/ensemble/iforest.py:213: FutureWarning:\n",
      "\n",
      "default contamination parameter 0.1 will change in version 0.22 to \"auto\". This will change the predict method behavior.\n",
      "\n"
     ]
    },
    {
     "name": "stdout",
     "output_type": "stream",
     "text": [
      "0.6270039187744924\n",
      "[0.41]\n"
     ]
    },
    {
     "name": "stderr",
     "output_type": "stream",
     "text": [
      "/Users/Theo/anaconda3/lib/python3.7/site-packages/sklearn/ensemble/iforest.py:213: FutureWarning:\n",
      "\n",
      "default contamination parameter 0.1 will change in version 0.22 to \"auto\". This will change the predict method behavior.\n",
      "\n"
     ]
    },
    {
     "name": "stdout",
     "output_type": "stream",
     "text": [
      "0.6363012130922407\n",
      "[0.41]\n"
     ]
    },
    {
     "name": "stderr",
     "output_type": "stream",
     "text": [
      "/Users/Theo/anaconda3/lib/python3.7/site-packages/sklearn/ensemble/iforest.py:213: FutureWarning:\n",
      "\n",
      "default contamination parameter 0.1 will change in version 0.22 to \"auto\". This will change the predict method behavior.\n",
      "\n"
     ]
    },
    {
     "name": "stdout",
     "output_type": "stream",
     "text": [
      "0.6072631072631073\n",
      "[0.41]\n"
     ]
    },
    {
     "name": "stderr",
     "output_type": "stream",
     "text": [
      "/Users/Theo/anaconda3/lib/python3.7/site-packages/sklearn/ensemble/iforest.py:213: FutureWarning:\n",
      "\n",
      "default contamination parameter 0.1 will change in version 0.22 to \"auto\". This will change the predict method behavior.\n",
      "\n"
     ]
    },
    {
     "name": "stdout",
     "output_type": "stream",
     "text": [
      "0.6250459052515608\n",
      "[0.41]\n"
     ]
    },
    {
     "name": "stderr",
     "output_type": "stream",
     "text": [
      "/Users/Theo/anaconda3/lib/python3.7/site-packages/sklearn/ensemble/iforest.py:213: FutureWarning:\n",
      "\n",
      "default contamination parameter 0.1 will change in version 0.22 to \"auto\". This will change the predict method behavior.\n",
      "\n"
     ]
    },
    {
     "name": "stdout",
     "output_type": "stream",
     "text": [
      "0.6105690026612597\n",
      "[0.42]\n"
     ]
    },
    {
     "name": "stderr",
     "output_type": "stream",
     "text": [
      "/Users/Theo/anaconda3/lib/python3.7/site-packages/sklearn/ensemble/iforest.py:213: FutureWarning:\n",
      "\n",
      "default contamination parameter 0.1 will change in version 0.22 to \"auto\". This will change the predict method behavior.\n",
      "\n"
     ]
    },
    {
     "name": "stdout",
     "output_type": "stream",
     "text": [
      "0.630546955624355\n",
      "[0.42]\n"
     ]
    },
    {
     "name": "stderr",
     "output_type": "stream",
     "text": [
      "/Users/Theo/anaconda3/lib/python3.7/site-packages/sklearn/ensemble/iforest.py:213: FutureWarning:\n",
      "\n",
      "default contamination parameter 0.1 will change in version 0.22 to \"auto\". This will change the predict method behavior.\n",
      "\n",
      "/Users/Theo/anaconda3/lib/python3.7/site-packages/ipykernel_launcher.py:25: RuntimeWarning:\n",
      "\n",
      "divide by zero encountered in true_divide\n",
      "\n",
      "/Users/Theo/anaconda3/lib/python3.7/site-packages/ipykernel_launcher.py:25: RuntimeWarning:\n",
      "\n",
      "invalid value encountered in true_divide\n",
      "\n"
     ]
    },
    {
     "name": "stdout",
     "output_type": "stream",
     "text": [
      "0.5942979520813813\n",
      "[0.43]\n"
     ]
    },
    {
     "name": "stderr",
     "output_type": "stream",
     "text": [
      "/Users/Theo/anaconda3/lib/python3.7/site-packages/sklearn/ensemble/iforest.py:213: FutureWarning:\n",
      "\n",
      "default contamination parameter 0.1 will change in version 0.22 to \"auto\". This will change the predict method behavior.\n",
      "\n"
     ]
    },
    {
     "name": "stdout",
     "output_type": "stream",
     "text": [
      "0.6088495575221239\n",
      "[0.42]\n"
     ]
    },
    {
     "name": "stderr",
     "output_type": "stream",
     "text": [
      "/Users/Theo/anaconda3/lib/python3.7/site-packages/sklearn/ensemble/iforest.py:213: FutureWarning:\n",
      "\n",
      "default contamination parameter 0.1 will change in version 0.22 to \"auto\". This will change the predict method behavior.\n",
      "\n"
     ]
    },
    {
     "name": "stdout",
     "output_type": "stream",
     "text": [
      "0.6166053357865685\n",
      "[0.41]\n"
     ]
    },
    {
     "name": "stderr",
     "output_type": "stream",
     "text": [
      "/Users/Theo/anaconda3/lib/python3.7/site-packages/sklearn/ensemble/iforest.py:213: FutureWarning:\n",
      "\n",
      "default contamination parameter 0.1 will change in version 0.22 to \"auto\". This will change the predict method behavior.\n",
      "\n"
     ]
    },
    {
     "name": "stdout",
     "output_type": "stream",
     "text": [
      "0.6340640809443507\n",
      "[0.41]\n"
     ]
    },
    {
     "name": "stderr",
     "output_type": "stream",
     "text": [
      "/Users/Theo/anaconda3/lib/python3.7/site-packages/sklearn/ensemble/iforest.py:213: FutureWarning:\n",
      "\n",
      "default contamination parameter 0.1 will change in version 0.22 to \"auto\". This will change the predict method behavior.\n",
      "\n"
     ]
    },
    {
     "name": "stdout",
     "output_type": "stream",
     "text": [
      "0.556651431320664\n",
      "[0.41]\n"
     ]
    },
    {
     "name": "stderr",
     "output_type": "stream",
     "text": [
      "/Users/Theo/anaconda3/lib/python3.7/site-packages/sklearn/ensemble/iforest.py:213: FutureWarning:\n",
      "\n",
      "default contamination parameter 0.1 will change in version 0.22 to \"auto\". This will change the predict method behavior.\n",
      "\n",
      "/Users/Theo/anaconda3/lib/python3.7/site-packages/ipykernel_launcher.py:25: RuntimeWarning:\n",
      "\n",
      "divide by zero encountered in true_divide\n",
      "\n",
      "/Users/Theo/anaconda3/lib/python3.7/site-packages/ipykernel_launcher.py:25: RuntimeWarning:\n",
      "\n",
      "invalid value encountered in true_divide\n",
      "\n"
     ]
    },
    {
     "name": "stdout",
     "output_type": "stream",
     "text": [
      "0.6232453677709153\n",
      "[0.41]\n"
     ]
    },
    {
     "name": "stderr",
     "output_type": "stream",
     "text": [
      "/Users/Theo/anaconda3/lib/python3.7/site-packages/sklearn/ensemble/iforest.py:213: FutureWarning:\n",
      "\n",
      "default contamination parameter 0.1 will change in version 0.22 to \"auto\". This will change the predict method behavior.\n",
      "\n"
     ]
    },
    {
     "name": "stdout",
     "output_type": "stream",
     "text": [
      "0.6169375983219716\n",
      "[0.41]\n"
     ]
    },
    {
     "name": "stderr",
     "output_type": "stream",
     "text": [
      "/Users/Theo/anaconda3/lib/python3.7/site-packages/sklearn/ensemble/iforest.py:213: FutureWarning:\n",
      "\n",
      "default contamination parameter 0.1 will change in version 0.22 to \"auto\". This will change the predict method behavior.\n",
      "\n"
     ]
    },
    {
     "name": "stdout",
     "output_type": "stream",
     "text": [
      "0.6344361602982292\n",
      "[0.4]\n"
     ]
    },
    {
     "name": "stderr",
     "output_type": "stream",
     "text": [
      "/Users/Theo/anaconda3/lib/python3.7/site-packages/sklearn/ensemble/iforest.py:213: FutureWarning:\n",
      "\n",
      "default contamination parameter 0.1 will change in version 0.22 to \"auto\". This will change the predict method behavior.\n",
      "\n",
      "/Users/Theo/anaconda3/lib/python3.7/site-packages/ipykernel_launcher.py:25: RuntimeWarning:\n",
      "\n",
      "divide by zero encountered in true_divide\n",
      "\n",
      "/Users/Theo/anaconda3/lib/python3.7/site-packages/ipykernel_launcher.py:25: RuntimeWarning:\n",
      "\n",
      "invalid value encountered in true_divide\n",
      "\n"
     ]
    },
    {
     "name": "stdout",
     "output_type": "stream",
     "text": [
      "0.5987806459981839\n",
      "[0.42]\n"
     ]
    },
    {
     "name": "stderr",
     "output_type": "stream",
     "text": [
      "/Users/Theo/anaconda3/lib/python3.7/site-packages/sklearn/ensemble/iforest.py:213: FutureWarning:\n",
      "\n",
      "default contamination parameter 0.1 will change in version 0.22 to \"auto\". This will change the predict method behavior.\n",
      "\n"
     ]
    },
    {
     "name": "stdout",
     "output_type": "stream",
     "text": [
      "0.6063707304592554\n",
      "[0.42]\n"
     ]
    },
    {
     "name": "stderr",
     "output_type": "stream",
     "text": [
      "/Users/Theo/anaconda3/lib/python3.7/site-packages/sklearn/ensemble/iforest.py:213: FutureWarning:\n",
      "\n",
      "default contamination parameter 0.1 will change in version 0.22 to \"auto\". This will change the predict method behavior.\n",
      "\n"
     ]
    },
    {
     "name": "stdout",
     "output_type": "stream",
     "text": [
      "0.5634500619299628\n",
      "[0.41]\n"
     ]
    },
    {
     "name": "stderr",
     "output_type": "stream",
     "text": [
      "/Users/Theo/anaconda3/lib/python3.7/site-packages/sklearn/ensemble/iforest.py:213: FutureWarning:\n",
      "\n",
      "default contamination parameter 0.1 will change in version 0.22 to \"auto\". This will change the predict method behavior.\n",
      "\n"
     ]
    },
    {
     "name": "stdout",
     "output_type": "stream",
     "text": [
      "0.6062388136026592\n",
      "[0.42]\n"
     ]
    },
    {
     "name": "stderr",
     "output_type": "stream",
     "text": [
      "/Users/Theo/anaconda3/lib/python3.7/site-packages/sklearn/ensemble/iforest.py:213: FutureWarning:\n",
      "\n",
      "default contamination parameter 0.1 will change in version 0.22 to \"auto\". This will change the predict method behavior.\n",
      "\n",
      "/Users/Theo/anaconda3/lib/python3.7/site-packages/ipykernel_launcher.py:25: RuntimeWarning:\n",
      "\n",
      "divide by zero encountered in true_divide\n",
      "\n",
      "/Users/Theo/anaconda3/lib/python3.7/site-packages/ipykernel_launcher.py:25: RuntimeWarning:\n",
      "\n",
      "invalid value encountered in true_divide\n",
      "\n"
     ]
    },
    {
     "name": "stdout",
     "output_type": "stream",
     "text": [
      "0.6492939666238768\n",
      "[0.41]\n"
     ]
    },
    {
     "name": "stderr",
     "output_type": "stream",
     "text": [
      "/Users/Theo/anaconda3/lib/python3.7/site-packages/sklearn/ensemble/iforest.py:213: FutureWarning:\n",
      "\n",
      "default contamination parameter 0.1 will change in version 0.22 to \"auto\". This will change the predict method behavior.\n",
      "\n"
     ]
    },
    {
     "name": "stdout",
     "output_type": "stream",
     "text": [
      "0.578289872650091\n",
      "[0.41]\n"
     ]
    },
    {
     "name": "stderr",
     "output_type": "stream",
     "text": [
      "/Users/Theo/anaconda3/lib/python3.7/site-packages/sklearn/ensemble/iforest.py:213: FutureWarning:\n",
      "\n",
      "default contamination parameter 0.1 will change in version 0.22 to \"auto\". This will change the predict method behavior.\n",
      "\n"
     ]
    },
    {
     "name": "stdout",
     "output_type": "stream",
     "text": [
      "0.6197889182058047\n",
      "[0.42]\n"
     ]
    },
    {
     "name": "stderr",
     "output_type": "stream",
     "text": [
      "/Users/Theo/anaconda3/lib/python3.7/site-packages/sklearn/ensemble/iforest.py:213: FutureWarning:\n",
      "\n",
      "default contamination parameter 0.1 will change in version 0.22 to \"auto\". This will change the predict method behavior.\n",
      "\n"
     ]
    },
    {
     "name": "stdout",
     "output_type": "stream",
     "text": [
      "0.6421113023522662\n",
      "[0.41]\n"
     ]
    },
    {
     "name": "stderr",
     "output_type": "stream",
     "text": [
      "/Users/Theo/anaconda3/lib/python3.7/site-packages/sklearn/ensemble/iforest.py:213: FutureWarning:\n",
      "\n",
      "default contamination parameter 0.1 will change in version 0.22 to \"auto\". This will change the predict method behavior.\n",
      "\n"
     ]
    },
    {
     "name": "stdout",
     "output_type": "stream",
     "text": [
      "0.6310419589338095\n",
      "[0.42]\n"
     ]
    },
    {
     "name": "stderr",
     "output_type": "stream",
     "text": [
      "/Users/Theo/anaconda3/lib/python3.7/site-packages/sklearn/ensemble/iforest.py:213: FutureWarning:\n",
      "\n",
      "default contamination parameter 0.1 will change in version 0.22 to \"auto\". This will change the predict method behavior.\n",
      "\n"
     ]
    },
    {
     "name": "stdout",
     "output_type": "stream",
     "text": [
      "0.6325316141829903\n",
      "[0.41]\n"
     ]
    },
    {
     "name": "stderr",
     "output_type": "stream",
     "text": [
      "/Users/Theo/anaconda3/lib/python3.7/site-packages/sklearn/ensemble/iforest.py:213: FutureWarning:\n",
      "\n",
      "default contamination parameter 0.1 will change in version 0.22 to \"auto\". This will change the predict method behavior.\n",
      "\n"
     ]
    },
    {
     "name": "stdout",
     "output_type": "stream",
     "text": [
      "0.6013878180416345\n",
      "[0.41]\n"
     ]
    },
    {
     "name": "stderr",
     "output_type": "stream",
     "text": [
      "/Users/Theo/anaconda3/lib/python3.7/site-packages/sklearn/ensemble/iforest.py:213: FutureWarning:\n",
      "\n",
      "default contamination parameter 0.1 will change in version 0.22 to \"auto\". This will change the predict method behavior.\n",
      "\n"
     ]
    },
    {
     "name": "stdout",
     "output_type": "stream",
     "text": [
      "0.6297406490290629\n",
      "[0.41]\n"
     ]
    },
    {
     "name": "stderr",
     "output_type": "stream",
     "text": [
      "/Users/Theo/anaconda3/lib/python3.7/site-packages/sklearn/ensemble/iforest.py:213: FutureWarning:\n",
      "\n",
      "default contamination parameter 0.1 will change in version 0.22 to \"auto\". This will change the predict method behavior.\n",
      "\n",
      "/Users/Theo/anaconda3/lib/python3.7/site-packages/ipykernel_launcher.py:25: RuntimeWarning:\n",
      "\n",
      "divide by zero encountered in true_divide\n",
      "\n",
      "/Users/Theo/anaconda3/lib/python3.7/site-packages/ipykernel_launcher.py:25: RuntimeWarning:\n",
      "\n",
      "invalid value encountered in true_divide\n",
      "\n"
     ]
    },
    {
     "name": "stdout",
     "output_type": "stream",
     "text": [
      "0.6221383647798742\n",
      "[0.41]\n"
     ]
    },
    {
     "name": "stderr",
     "output_type": "stream",
     "text": [
      "/Users/Theo/anaconda3/lib/python3.7/site-packages/sklearn/ensemble/iforest.py:213: FutureWarning:\n",
      "\n",
      "default contamination parameter 0.1 will change in version 0.22 to \"auto\". This will change the predict method behavior.\n",
      "\n"
     ]
    },
    {
     "name": "stdout",
     "output_type": "stream",
     "text": [
      "0.591630231105559\n",
      "[0.41]\n"
     ]
    },
    {
     "name": "stderr",
     "output_type": "stream",
     "text": [
      "/Users/Theo/anaconda3/lib/python3.7/site-packages/sklearn/ensemble/iforest.py:213: FutureWarning:\n",
      "\n",
      "default contamination parameter 0.1 will change in version 0.22 to \"auto\". This will change the predict method behavior.\n",
      "\n"
     ]
    },
    {
     "name": "stdout",
     "output_type": "stream",
     "text": [
      "0.6337603617181612\n",
      "[0.41]\n"
     ]
    },
    {
     "name": "stderr",
     "output_type": "stream",
     "text": [
      "/Users/Theo/anaconda3/lib/python3.7/site-packages/sklearn/ensemble/iforest.py:213: FutureWarning:\n",
      "\n",
      "default contamination parameter 0.1 will change in version 0.22 to \"auto\". This will change the predict method behavior.\n",
      "\n"
     ]
    },
    {
     "name": "stdout",
     "output_type": "stream",
     "text": [
      "0.6075102880658436\n",
      "[0.41]\n"
     ]
    },
    {
     "name": "stderr",
     "output_type": "stream",
     "text": [
      "/Users/Theo/anaconda3/lib/python3.7/site-packages/sklearn/ensemble/iforest.py:213: FutureWarning:\n",
      "\n",
      "default contamination parameter 0.1 will change in version 0.22 to \"auto\". This will change the predict method behavior.\n",
      "\n"
     ]
    },
    {
     "name": "stdout",
     "output_type": "stream",
     "text": [
      "0.6402345741968383\n",
      "[0.41]\n"
     ]
    },
    {
     "name": "stderr",
     "output_type": "stream",
     "text": [
      "/Users/Theo/anaconda3/lib/python3.7/site-packages/sklearn/ensemble/iforest.py:213: FutureWarning:\n",
      "\n",
      "default contamination parameter 0.1 will change in version 0.22 to \"auto\". This will change the predict method behavior.\n",
      "\n"
     ]
    },
    {
     "name": "stdout",
     "output_type": "stream",
     "text": [
      "0.6196350552557183\n",
      "[0.41]\n"
     ]
    },
    {
     "name": "stderr",
     "output_type": "stream",
     "text": [
      "/Users/Theo/anaconda3/lib/python3.7/site-packages/sklearn/ensemble/iforest.py:213: FutureWarning:\n",
      "\n",
      "default contamination parameter 0.1 will change in version 0.22 to \"auto\". This will change the predict method behavior.\n",
      "\n"
     ]
    },
    {
     "name": "stdout",
     "output_type": "stream",
     "text": [
      "0.5856729195518067\n",
      "[0.41]\n"
     ]
    },
    {
     "name": "stderr",
     "output_type": "stream",
     "text": [
      "/Users/Theo/anaconda3/lib/python3.7/site-packages/sklearn/ensemble/iforest.py:213: FutureWarning:\n",
      "\n",
      "default contamination parameter 0.1 will change in version 0.22 to \"auto\". This will change the predict method behavior.\n",
      "\n"
     ]
    },
    {
     "name": "stdout",
     "output_type": "stream",
     "text": [
      "0.6257652020133315\n",
      "[0.42]\n"
     ]
    },
    {
     "name": "stderr",
     "output_type": "stream",
     "text": [
      "/Users/Theo/anaconda3/lib/python3.7/site-packages/sklearn/ensemble/iforest.py:213: FutureWarning:\n",
      "\n",
      "default contamination parameter 0.1 will change in version 0.22 to \"auto\". This will change the predict method behavior.\n",
      "\n"
     ]
    },
    {
     "name": "stdout",
     "output_type": "stream",
     "text": [
      "0.5962302859340941\n",
      "[0.41]\n"
     ]
    },
    {
     "name": "stderr",
     "output_type": "stream",
     "text": [
      "/Users/Theo/anaconda3/lib/python3.7/site-packages/sklearn/ensemble/iforest.py:213: FutureWarning:\n",
      "\n",
      "default contamination parameter 0.1 will change in version 0.22 to \"auto\". This will change the predict method behavior.\n",
      "\n"
     ]
    },
    {
     "name": "stdout",
     "output_type": "stream",
     "text": [
      "0.6196762713810126\n",
      "[0.4]\n"
     ]
    },
    {
     "name": "stderr",
     "output_type": "stream",
     "text": [
      "/Users/Theo/anaconda3/lib/python3.7/site-packages/sklearn/ensemble/iforest.py:213: FutureWarning:\n",
      "\n",
      "default contamination parameter 0.1 will change in version 0.22 to \"auto\". This will change the predict method behavior.\n",
      "\n"
     ]
    },
    {
     "name": "stdout",
     "output_type": "stream",
     "text": [
      "0.5888587626324872\n",
      "[0.4]\n"
     ]
    },
    {
     "name": "stderr",
     "output_type": "stream",
     "text": [
      "/Users/Theo/anaconda3/lib/python3.7/site-packages/sklearn/ensemble/iforest.py:213: FutureWarning:\n",
      "\n",
      "default contamination parameter 0.1 will change in version 0.22 to \"auto\". This will change the predict method behavior.\n",
      "\n",
      "/Users/Theo/anaconda3/lib/python3.7/site-packages/ipykernel_launcher.py:25: RuntimeWarning:\n",
      "\n",
      "divide by zero encountered in true_divide\n",
      "\n",
      "/Users/Theo/anaconda3/lib/python3.7/site-packages/ipykernel_launcher.py:25: RuntimeWarning:\n",
      "\n",
      "invalid value encountered in true_divide\n",
      "\n"
     ]
    },
    {
     "name": "stdout",
     "output_type": "stream",
     "text": [
      "0.5429929723026043\n",
      "[0.39]\n"
     ]
    },
    {
     "name": "stderr",
     "output_type": "stream",
     "text": [
      "/Users/Theo/anaconda3/lib/python3.7/site-packages/sklearn/ensemble/iforest.py:213: FutureWarning:\n",
      "\n",
      "default contamination parameter 0.1 will change in version 0.22 to \"auto\". This will change the predict method behavior.\n",
      "\n"
     ]
    },
    {
     "name": "stdout",
     "output_type": "stream",
     "text": [
      "0.5873968492123031\n",
      "[0.4]\n"
     ]
    },
    {
     "name": "stderr",
     "output_type": "stream",
     "text": [
      "/Users/Theo/anaconda3/lib/python3.7/site-packages/sklearn/ensemble/iforest.py:213: FutureWarning:\n",
      "\n",
      "default contamination parameter 0.1 will change in version 0.22 to \"auto\". This will change the predict method behavior.\n",
      "\n"
     ]
    },
    {
     "name": "stdout",
     "output_type": "stream",
     "text": [
      "0.6482159194876488\n",
      "[0.4]\n"
     ]
    },
    {
     "name": "stderr",
     "output_type": "stream",
     "text": [
      "/Users/Theo/anaconda3/lib/python3.7/site-packages/sklearn/ensemble/iforest.py:213: FutureWarning:\n",
      "\n",
      "default contamination parameter 0.1 will change in version 0.22 to \"auto\". This will change the predict method behavior.\n",
      "\n"
     ]
    },
    {
     "name": "stdout",
     "output_type": "stream",
     "text": [
      "0.5780917143177486\n",
      "[0.4]\n"
     ]
    },
    {
     "name": "stderr",
     "output_type": "stream",
     "text": [
      "/Users/Theo/anaconda3/lib/python3.7/site-packages/sklearn/ensemble/iforest.py:213: FutureWarning:\n",
      "\n",
      "default contamination parameter 0.1 will change in version 0.22 to \"auto\". This will change the predict method behavior.\n",
      "\n"
     ]
    },
    {
     "name": "stdout",
     "output_type": "stream",
     "text": [
      "0.6607724523033969\n",
      "[0.4]\n"
     ]
    },
    {
     "name": "stderr",
     "output_type": "stream",
     "text": [
      "/Users/Theo/anaconda3/lib/python3.7/site-packages/sklearn/ensemble/iforest.py:213: FutureWarning:\n",
      "\n",
      "default contamination parameter 0.1 will change in version 0.22 to \"auto\". This will change the predict method behavior.\n",
      "\n"
     ]
    },
    {
     "name": "stdout",
     "output_type": "stream",
     "text": [
      "0.6329372684297944\n",
      "[0.41]\n"
     ]
    },
    {
     "name": "stderr",
     "output_type": "stream",
     "text": [
      "/Users/Theo/anaconda3/lib/python3.7/site-packages/sklearn/ensemble/iforest.py:213: FutureWarning:\n",
      "\n",
      "default contamination parameter 0.1 will change in version 0.22 to \"auto\". This will change the predict method behavior.\n",
      "\n"
     ]
    },
    {
     "name": "stdout",
     "output_type": "stream",
     "text": [
      "0.6046025104602512\n",
      "[0.41]\n"
     ]
    },
    {
     "name": "stderr",
     "output_type": "stream",
     "text": [
      "/Users/Theo/anaconda3/lib/python3.7/site-packages/sklearn/ensemble/iforest.py:213: FutureWarning:\n",
      "\n",
      "default contamination parameter 0.1 will change in version 0.22 to \"auto\". This will change the predict method behavior.\n",
      "\n"
     ]
    },
    {
     "name": "stdout",
     "output_type": "stream",
     "text": [
      "0.6469868045163923\n",
      "[0.41]\n"
     ]
    },
    {
     "name": "stderr",
     "output_type": "stream",
     "text": [
      "/Users/Theo/anaconda3/lib/python3.7/site-packages/sklearn/ensemble/iforest.py:213: FutureWarning:\n",
      "\n",
      "default contamination parameter 0.1 will change in version 0.22 to \"auto\". This will change the predict method behavior.\n",
      "\n"
     ]
    },
    {
     "name": "stdout",
     "output_type": "stream",
     "text": [
      "0.635254319197777\n",
      "[0.4]\n"
     ]
    },
    {
     "name": "stderr",
     "output_type": "stream",
     "text": [
      "/Users/Theo/anaconda3/lib/python3.7/site-packages/sklearn/ensemble/iforest.py:213: FutureWarning:\n",
      "\n",
      "default contamination parameter 0.1 will change in version 0.22 to \"auto\". This will change the predict method behavior.\n",
      "\n",
      "/Users/Theo/anaconda3/lib/python3.7/site-packages/ipykernel_launcher.py:25: RuntimeWarning:\n",
      "\n",
      "divide by zero encountered in true_divide\n",
      "\n",
      "/Users/Theo/anaconda3/lib/python3.7/site-packages/ipykernel_launcher.py:25: RuntimeWarning:\n",
      "\n",
      "invalid value encountered in true_divide\n",
      "\n"
     ]
    },
    {
     "name": "stdout",
     "output_type": "stream",
     "text": [
      "0.6050054406964092\n",
      "[0.41]\n"
     ]
    },
    {
     "name": "stderr",
     "output_type": "stream",
     "text": [
      "/Users/Theo/anaconda3/lib/python3.7/site-packages/sklearn/ensemble/iforest.py:213: FutureWarning:\n",
      "\n",
      "default contamination parameter 0.1 will change in version 0.22 to \"auto\". This will change the predict method behavior.\n",
      "\n"
     ]
    },
    {
     "name": "stdout",
     "output_type": "stream",
     "text": [
      "0.6340752517223105\n",
      "[0.41]\n"
     ]
    },
    {
     "name": "stderr",
     "output_type": "stream",
     "text": [
      "/Users/Theo/anaconda3/lib/python3.7/site-packages/sklearn/ensemble/iforest.py:213: FutureWarning:\n",
      "\n",
      "default contamination parameter 0.1 will change in version 0.22 to \"auto\". This will change the predict method behavior.\n",
      "\n"
     ]
    },
    {
     "name": "stdout",
     "output_type": "stream",
     "text": [
      "0.6105775387373543\n",
      "[0.41]\n",
      "0.693446088794926\n",
      "[0.46]\n",
      "400\n",
      "800\n"
     ]
    },
    {
     "data": {
      "image/png": "[encoded data removed]",
      "text/plain": [
       "<Figure size 432x288 with 1 Axes>"
      ]
     },
     "metadata": {
      "needs_background": "light"
     },
     "output_type": "display_data"
    }
   ],
   "source": [
    "# MODEL BUILDING\n",
    "imax=0\n",
    "jmax=0\n",
    "f1_max=0\n",
    "\n",
    "for i in range(300,10000,100):\n",
    "    j=2*i\n",
    "    #for j in range(100, 10000, 1000):\n",
    "\n",
    "    rng = np.random.RandomState(i)\n",
    "\n",
    "\n",
    "    # training the model\n",
    "    clf = IsolationForest(behaviour='new', max_samples=j, random_state=rng)\n",
    "    clf.fit(X_train)\n",
    "    score = -clf.score_samples(X_train)\n",
    "\n",
    "    # Precision recall curve\n",
    "    precision, recall, thresholds = precision_recall_curve(ylabel_train, score)\n",
    "\n",
    "    # ROC curve\n",
    "    #fpr, tpr, thresholds = roc_curve(ylabel_train, score)\n",
    "\n",
    "    # F1 score\n",
    "    f1_score = 2*(precision*recall)/(precision+recall)\n",
    "\n",
    "    meilleur_f1_score = max(f1_score)\n",
    "    position = np.where(f1_score==meilleur_f1_score)\n",
    "    print(meilleur_f1_score)\n",
    "\n",
    "    # meilleur threshold\n",
    "    threshold = thresholds[position]\n",
    "    print(threshold)\n",
    "\n",
    "    # PLOT precision recall curve\n",
    "    plt.plot(precision, recall)\n",
    "    plt.xlabel('Recall')\n",
    "    plt.ylabel('Precision')\n",
    "    plt.title('Precision-Recall curve')\n",
    "\n",
    "\n",
    "    #PLOT roc curve\n",
    "    #plt.plot(fpr, tpr)\n",
    "    #plt.xlabel('False positive rate')\n",
    "    #plt.ylabel('True positive rate')\n",
    "    #plt.title('ROC curve')\n",
    "    #plt.show()\n",
    "\n",
    "    # predictions\n",
    "    y_pred_train = clf.predict(X_train)\n",
    "    y_pred_test = clf.predict(X_test)\n",
    "    # y_pred_outliers = clf.predict(X_outliers)\n",
    "    # Meilleurs paramètres\n",
    "    if meilleur_f1_score>f1_max:\n",
    "        f1_max=meilleur_f1_score\n",
    "        imax=i\n",
    "        jmax=j\n",
    "        threshold_corres = threshold\n",
    "\n",
    "print(f1_max)\n",
    "print(threshold_corres)\n",
    "print(imax)\n",
    "print(jmax)\n",
    "plt.show()\n",
    "        "
   ]
  },
  {
   "cell_type": "code",
   "execution_count": 89,
   "metadata": {},
   "outputs": [
    {
     "name": "stderr",
     "output_type": "stream",
     "text": [
      "/Users/Theo/anaconda3/lib/python3.7/site-packages/sklearn/ensemble/iforest.py:213: FutureWarning:\n",
      "\n",
      "default contamination parameter 0.1 will change in version 0.22 to \"auto\". This will change the predict method behavior.\n",
      "\n",
      "/Users/Theo/anaconda3/lib/python3.7/site-packages/sklearn/ensemble/iforest.py:223: FutureWarning:\n",
      "\n",
      "behaviour=\"old\" is deprecated and will be removed in version 0.22. Please use behaviour=\"new\", which makes the decision_function change to match other anomaly detection algorithm API.\n",
      "\n"
     ]
    },
    {
     "name": "stdout",
     "output_type": "stream",
     "text": [
      "meilleur f1 score =  0.69\n",
      "threshold correspondant pour le modèle =  0.46\n"
     ]
    },
    {
     "data": {
      "image/png": "[encoded data removed]",
      "text/plain": [
       "<Figure size 432x288 with 1 Axes>"
      ]
     },
     "metadata": {
      "needs_background": "light"
     },
     "output_type": "display_data"
    },
    {
     "data": {
      "image/png": "[encoded data removed]",
      "text/plain": [
       "<Figure size 432x288 with 1 Axes>"
      ]
     },
     "metadata": {
      "needs_background": "light"
     },
     "output_type": "display_data"
    },
    {
     "name": "stdout",
     "output_type": "stream",
     "text": [
      "matrice de confusion =\n",
      " [[69247  1059]\n",
      " [ 1407  2787]]\n",
      "precision =  0.72\n",
      "recall =  0.66\n",
      "aire sous la courbe roc =  0.82\n"
     ]
    }
   ],
   "source": [
    "# MODEL BUILDING\n",
    "\n",
    "\n",
    "rng = np.random.RandomState(400)\n",
    "        \n",
    "# training the model\n",
    "clf = IsolationForest(max_samples=800, random_state=rng)\n",
    "clf.fit(X_train)\n",
    "score = -clf.score_samples(X_train)\n",
    "\n",
    "\n",
    "# Precision recall curve\n",
    "precision, recall, thresholds = precision_recall_curve(ylabel_train, score)\n",
    "\n",
    "# PLOT precision recall curve\n",
    "plt.plot(precision, recall)\n",
    "plt.xlabel('Recall')\n",
    "plt.ylabel('Precision')\n",
    "plt.title('Precision-Recall curve')\n",
    "plt.show\n",
    "\n",
    "# ROC curve\n",
    "fpr, tpr, thresholds1 = roc_curve(ylabel_train, score)\n",
    "\n",
    "# F1 score\n",
    "f1_score = 2*(precision*recall)/(precision+recall)\n",
    "\n",
    "meilleur_f1_score = max(f1_score)\n",
    "position = np.where(f1_score==meilleur_f1_score)\n",
    "print('meilleur f1 score = ', \"%.2f\" % meilleur_f1_score)\n",
    "\n",
    "# meilleur threshold\n",
    "threshold_train = thresholds[position]\n",
    "print('threshold correspondant pour le modèle = ', \"%.2f\" % threshold_train)\n",
    "\n",
    "# PLOT precision recall curve\n",
    "plt.plot(precision, recall)\n",
    "plt.xlabel('Recall')\n",
    "plt.ylabel('Precision')\n",
    "plt.title('Precision-Recall curve')\n",
    "plt.show()\n",
    "#PLOT roc curve\n",
    "plt.plot(fpr, tpr)\n",
    "plt.xlabel('False positive rate')\n",
    "plt.ylabel('True positive rate')\n",
    "plt.title('ROC curve')\n",
    "plt.show()\n",
    "\n",
    "#Prediction with calculated best threshold:\n",
    "Y_predicted = (score>threshold_train)\n",
    "\n",
    "#Confusion matrix\n",
    "print('matrice de confusion =\\n',confusion_matrix(ylabel_train, Y_predicted,))\n",
    "\n",
    "#precision= TP/(TP+FP)= proportion des classés positifs qui en sont vraiment\n",
    "print('precision = ',\"%.2f\" % precision_score(ylabel_train, Y_predicted,))\n",
    "\n",
    "#recall= TP/(TP+FN)= proportion \n",
    "print('recall = ',\"%.2f\" % recall_score(ylabel_train, Y_predicted,))\n",
    "\n",
    "#roc_score\n",
    "print('aire sous la courbe roc = ',\"%.2f\" % roc_auc_score(ylabel_train, Y_predicted,))\n",
    "\n",
    "\n",
    "\n"
   ]
  },
  {
   "cell_type": "code",
   "execution_count": 90,
   "metadata": {},
   "outputs": [
    {
     "name": "stdout",
     "output_type": "stream",
     "text": [
      "meilleur f1_score =  0.70\n",
      "threshold correspondant au meilleur f1_score =  0.46\n"
     ]
    },
    {
     "data": {
      "image/png": "[encoded data removed]",
      "text/plain": [
       "<Figure size 432x288 with 1 Axes>"
      ]
     },
     "metadata": {
      "needs_background": "light"
     },
     "output_type": "display_data"
    },
    {
     "data": {
      "image/png": "[encoded data removed]",
      "text/plain": [
       "<Figure size 432x288 with 1 Axes>"
      ]
     },
     "metadata": {
      "needs_background": "light"
     },
     "output_type": "display_data"
    },
    {
     "name": "stdout",
     "output_type": "stream",
     "text": [
      "matrice de confusion =\n",
      " [[17273   253]\n",
      " [  375   724]]\n",
      "precision =  0.74\n",
      "recall =  0.66\n",
      "aire sous la courbe roc =  0.82\n"
     ]
    }
   ],
   "source": [
    "#Calcul des scores avec le modèle entrainé\n",
    "score = -clf.score_samples(X_test)\n",
    "\n",
    "# Precision recall curve\n",
    "precision, recall, thresholds = precision_recall_curve((y_test!=\"normal.\"), score)\n",
    "\n",
    "# ROC curve\n",
    "fpr, tpr, thresholds1 = roc_curve((y_test!=\"normal.\"), score)\n",
    "\n",
    "# F1 score\n",
    "f1_score = 2*(precision*recall)/(precision+recall)\n",
    "\n",
    "meilleur_f1_score = max(f1_score)\n",
    "position = np.where(f1_score==meilleur_f1_score)\n",
    "np.set_printoptions(precision=2)\n",
    "\n",
    "print('meilleur f1_score = ',\"%.2f\" % meilleur_f1_score)\n",
    "\n",
    "# meilleur threshold\n",
    "threshold = thresholds[position]\n",
    "print('threshold correspondant au meilleur f1_score = ',\"%.2f\" % threshold)\n",
    "\n",
    "# PLOT precision recall curve\n",
    "plt.plot(precision, recall)\n",
    "plt.xlabel('Recall')\n",
    "plt.ylabel('Precision')\n",
    "plt.title('Precision-Recall curve')\n",
    "plt.show()\n",
    "\n",
    "#PLOT roc curve\n",
    "plt.plot(fpr, tpr)\n",
    "plt.xlabel('False positive rate')\n",
    "plt.ylabel('True positive rate')\n",
    "plt.title('ROC curve')\n",
    "plt.show()\n",
    "\n",
    "#Prediction with calculated best threshold:\n",
    "Y_predicted = (score>threshold_train)\n",
    "\n",
    "#Confusion matrix\n",
    "print('matrice de confusion =\\n',confusion_matrix((y_test!=\"normal.\"), Y_predicted,))\n",
    "\n",
    "#precision= TP/(TP+FP)= proportion des classés positifs qui en sont vraiment\n",
    "print('precision = ',\"%.2f\" % precision_score((y_test!=\"normal.\"), Y_predicted,))\n",
    "\n",
    "#recall= TP/(TP+FN)= proportion \n",
    "print('recall = ',\"%.2f\" % recall_score((y_test!=\"normal.\"), Y_predicted,))\n",
    "\n",
    "#roc_score\n",
    "print('aire sous la courbe roc = ',\"%.2f\" % roc_auc_score((y_test!=\"normal.\"), Y_predicted,))\n",
    "\n"
   ]
  },
  {
   "cell_type": "code",
   "execution_count": 91,
   "metadata": {},
   "outputs": [
    {
     "name": "stderr",
     "output_type": "stream",
     "text": [
      "/Users/Theo/anaconda3/lib/python3.7/site-packages/sklearn/ensemble/iforest.py:213: FutureWarning:\n",
      "\n",
      "default contamination parameter 0.1 will change in version 0.22 to \"auto\". This will change the predict method behavior.\n",
      "\n",
      "/Users/Theo/anaconda3/lib/python3.7/site-packages/sklearn/ensemble/iforest.py:223: FutureWarning:\n",
      "\n",
      "behaviour=\"old\" is deprecated and will be removed in version 0.22. Please use behaviour=\"new\", which makes the decision_function change to match other anomaly detection algorithm API.\n",
      "\n"
     ]
    },
    {
     "data": {
      "image/png": "[encoded data removed]",
      "text/plain": [
       "<Figure size 432x288 with 1 Axes>"
      ]
     },
     "metadata": {
      "needs_background": "light"
     },
     "output_type": "display_data"
    },
    {
     "name": "stdout",
     "output_type": "stream",
     "text": [
      "meilleur f1_score =  0.70\n",
      "threshold correspondant au meilleur f1_score =  0.46\n"
     ]
    },
    {
     "data": {
      "image/png": "[encoded data removed]",
      "text/plain": [
       "<Figure size 432x288 with 1 Axes>"
      ]
     },
     "metadata": {
      "needs_background": "light"
     },
     "output_type": "display_data"
    },
    {
     "name": "stdout",
     "output_type": "stream",
     "text": [
      "matrice de confusion =\n",
      " [[17208   318]\n",
      " [  340   759]]\n",
      "precision =  0.70\n",
      "recall =  0.69\n",
      "aire sous la courbe roc =  0.84\n"
     ]
    }
   ],
   "source": [
    "# MODEL BUILDING\n",
    "\n",
    "\n",
    "rng = np.random.RandomState(400)\n",
    "        \n",
    "# training the model\n",
    "clf2 = IsolationForest(max_samples=800, random_state=rng)\n",
    "clf2.fit(X_test)\n",
    "score2 = -clf.score_samples(X_test)\n",
    "\n",
    "\n",
    "# Precision recall curve\n",
    "precision, recall, thresholds = precision_recall_curve((y_test!=\"normal.\"), score)\n",
    "\n",
    "# PLOT precision recall curve\n",
    "plt.plot(precision, recall)\n",
    "plt.xlabel('Recall')\n",
    "plt.ylabel('Precision')\n",
    "plt.title('Precision-Recall curve')\n",
    "plt.show()\n",
    "\n",
    "# ROC curve\n",
    "fpr, tpr, thresholds1 = roc_curve((y_test!=\"normal.\"), score)\n",
    "\n",
    "# F1 score\n",
    "f1_score = 2*(precision*recall)/(precision+recall)\n",
    "\n",
    "meilleur_f1_score = max(f1_score)\n",
    "position = np.where(f1_score==meilleur_f1_score)\n",
    "\n",
    "print('meilleur f1_score = ',\"%.2f\" % meilleur_f1_score)\n",
    "\n",
    "# meilleur threshold\n",
    "threshold = thresholds[position]\n",
    "print('threshold correspondant au meilleur f1_score = ',\"%.2f\" % threshold)\n",
    "\n",
    "#PLOT roc curve\n",
    "plt.plot(fpr, tpr)\n",
    "plt.xlabel('False positive rate')\n",
    "plt.ylabel('True positive rate')\n",
    "plt.title('ROC curve')\n",
    "plt.show()\n",
    "\n",
    "#Prediction with calculated best threshold:\n",
    "Y_predicted = (score>threshold)\n",
    "\n",
    "#Confusion matrix\n",
    "print('matrice de confusion =\\n',confusion_matrix((y_test!=\"normal.\"), Y_predicted,))\n",
    "\n",
    "#precision= TP/(TP+FP)= proportion des classés positifs qui en sont vraiment\n",
    "print('precision = ',\"%.2f\" % precision_score((y_test!=\"normal.\"), Y_predicted,))\n",
    "\n",
    "#recall= TP/(TP+FN)= proportion \n",
    "print('recall = ',\"%.2f\" % recall_score((y_test!=\"normal.\"), Y_predicted,))\n",
    "\n",
    "#roc_score\n",
    "print('aire sous la courbe roc = ',\"%.2f\" % roc_auc_score((y_test!=\"normal.\"), Y_predicted,))\n",
    "\n"
   ]
  },
  {
   "cell_type": "code",
   "execution_count": null,
   "metadata": {},
   "outputs": [],
   "source": []
  }
 ],
 "metadata": {
  "kernelspec": {
   "display_name": "Python 3",
   "language": "python",
   "name": "python3"
  },
  "language_info": {
   "codemirror_mode": {
    "name": "ipython",
    "version": 3
   },
   "file_extension": ".py",
   "mimetype": "text/x-python",
   "name": "python",
   "nbconvert_exporter": "python",
   "pygments_lexer": "ipython3",
   "version": "3.7.3"
  },
  "pycharm": {
   "stem_cell": {
    "cell_type": "raw",
    "metadata": {
     "collapsed": false
    },
    "source": []
   }
  }
 },
 "nbformat": 4,
 "nbformat_minor": 1
}
